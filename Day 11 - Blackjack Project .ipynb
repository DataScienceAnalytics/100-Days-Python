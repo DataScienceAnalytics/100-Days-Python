{
 "cells": [
  {
   "cell_type": "code",
   "execution_count": null,
   "id": "4c83bfdf",
   "metadata": {},
   "outputs": [],
   "source": [
    "############### Blackjack Project #####################\n",
    "\n",
    "#Difficulty Normal 😎: Use all Hints below to complete the project.\n",
    "#Difficulty Hard 🤔: Use only Hints 1, 2, 3 to complete the project.\n",
    "#Difficulty Extra Hard 😭: Only use Hints 1 & 2 to complete the project.\n",
    "#Difficulty Expert 🤯: Only use Hint 1 to complete the project.\n",
    "\n",
    "############### Our Blackjack House Rules #####################\n",
    "\n",
    "## The deck is unlimited in size. \n",
    "## There are no jokers. \n",
    "## The Jack/Queen/King all count as 10.\n",
    "## The the Ace can count as 11 or 1.\n",
    "## Use the following list as the deck of cards:\n",
    "## cards = [11, 2, 3, 4, 5, 6, 7, 8, 9, 10, 10, 10, 10]\n",
    "## The cards in the list have equal probability of being drawn.\n",
    "## Cards are not removed from the deck as they are drawn.\n",
    "## The computer is the dealer."
   ]
  },
  {
   "cell_type": "code",
   "execution_count": 2,
   "id": "235adcc6",
   "metadata": {},
   "outputs": [],
   "source": [
    "import random\n",
    "cards = [11, 2, 3, 4, 5, 6, 7, 8, 9, 10, 10, 10, 10]"
   ]
  },
  {
   "cell_type": "code",
   "execution_count": null,
   "id": "5c6cb02b",
   "metadata": {},
   "outputs": [],
   "source": [
    ".------.            _     _            _    _            _    \n",
    "|A_  _ |.          | |   | |          | |  (_)          | |   \n",
    "|( \\/ ).-----.     | |__ | | __ _  ___| | ___  __ _  ___| | __\n",
    "| \\  /|K /\\  |     | '_ \\| |/ _` |/ __| |/ / |/ _` |/ __| |/ /\n",
    "|  \\/ | /  \\ |     | |_) | | (_| | (__|   <| | (_| | (__|   < \n",
    "`-----| \\  / |     |_.__/|_|\\__,_|\\___|_|\\_\\ |\\__,_|\\___|_|\\_\\\n",
    "      |  \\/ K|                            _/ |                \n",
    "      `------'                           |__/           "
   ]
  },
  {
   "cell_type": "code",
   "execution_count": 6,
   "id": "3fb7bc06",
   "metadata": {},
   "outputs": [
    {
     "data": {
      "text/plain": [
       "5"
      ]
     },
     "execution_count": 6,
     "metadata": {},
     "output_type": "execute_result"
    }
   ],
   "source": [
    "sum([2,3])"
   ]
  },
  {
   "cell_type": "code",
   "execution_count": 13,
   "id": "dc242c9b",
   "metadata": {},
   "outputs": [
    {
     "data": {
      "text/plain": [
       "True"
      ]
     },
     "execution_count": 13,
     "metadata": {},
     "output_type": "execute_result"
    }
   ],
   "source": [
    "11 in [11,2] and sum([11,2])<15"
   ]
  },
  {
   "cell_type": "code",
   "execution_count": 25,
   "id": "676a3582",
   "metadata": {},
   "outputs": [],
   "source": [
    "def calculate_final_results():\n",
    "    if sum(computer_cards) > 21:\n",
    "            print(f'Your card is {your_cards}. Computer card is {computer_cards}. Computer busted. You win')\n",
    "            continue_or_not = 'n'\n",
    "    else:\n",
    "        if sum(computer_cards) < sum(your_cards):\n",
    "            print(f'Your card is {your_cards}. Computer card is {computer_cards}. You win')\n",
    "            continue_or_not = 'n'\n",
    "        elif sum(computer_cards) > sum(your_cards):\n",
    "            print(f'Your card is {your_cards}. Computer card is {computer_cards}. You lose')\n",
    "            continue_or_not = 'n'\n",
    "        else:\n",
    "            print(f\"Your card is {your_cards}. Computer card is {computer_cards} It's a draw.\")\n",
    "            continue_or_not = 'n'"
   ]
  },
  {
   "cell_type": "code",
   "execution_count": 31,
   "id": "1a13c6da",
   "metadata": {},
   "outputs": [
    {
     "name": "stdout",
     "output_type": "stream",
     "text": [
      "Do you want to play a game of Blackjack? Type 'y' or 'n': y\n",
      "Your card is [11, 8]. Computer first card is 5\n",
      "Type 'y' to get another card, type 'n' to pass: y\n",
      "Your card is [11, 8, 3]. Computer first card is 5\n",
      "Type 'y' to get another card, type 'n' to pass: y\n",
      "Your card is [1, 8, 3, 2]. Computer first card is 5\n",
      "Type 'y' to get another card, type 'n' to pass: y\n",
      "Your card is [1, 8, 3, 2, 9]. Computer first card is 5\n",
      "Your card is [1, 8, 3, 2, 9]. Your pass 21. You lose😥\n",
      "Do you want to play again or not. Type y or n: n\n"
     ]
    }
   ],
   "source": [
    "play_or_not = input(\"Do you want to play a game of Blackjack? Type 'y' or 'n': \") #indication on whether to replay or not\n",
    "while play_or_not == 'y': \n",
    "    your_cards = []                                                   \n",
    "    computer_cards = []                               \n",
    "    your_cards.append(random.choice(cards))\n",
    "    your_cards.append(random.choice(cards))\n",
    "    computer_cards.append(random.choice(cards))\n",
    "    computer_cards.append(random.choice(cards))\n",
    "    \n",
    "    \n",
    "    \n",
    "    continue_or_not='y' #Indication of the game end or not\n",
    "    while continue_or_not == 'y':\n",
    "        print(f'Your card is {your_cards}. Computer first card is {computer_cards[0]}')\n",
    "        if sum(computer_cards)==21:\n",
    "            print(f'Computer card is {computer_cards}. Computer hit a blackjack. You lose😥') \n",
    "            continue_or_not = 'n'\n",
    "        elif sum(your_cards)==21:\n",
    "            print(f'Computer card is {computer_cards}. Your card is {your_cards}. You hit a blackjack. You win 😁')\n",
    "            continue_or_not = 'n'\n",
    "        else:\n",
    "            if sum(your_cards)>21:\n",
    "                if 11 in your_cards:\n",
    "                    your_cards = [1 if x==11 else x for x in your_cards]\n",
    "                    if sum(your_cards)>21:\n",
    "                        print(f'Your card is {your_cards}. Your pass 21. You lose😥')\n",
    "                        continue_or_not = 'n'\n",
    "                    else:\n",
    "                        draw_or_not = input(\"Type 'y' to get another card, type 'n' to pass: \")\n",
    "                        if draw_or_not == 'y':\n",
    "                            your_cards.append(random.choice(cards))\n",
    "                        else:\n",
    "                            while sum(computer_cards)<17:\n",
    "                                computer_cards.append(random.choice(cards))\n",
    "                            \n",
    "                            calculate_final_results()\n",
    "                            continue_or_not='n'\n",
    "                else:\n",
    "                    print(f'Your card is {your_cards}. Your pass 21. You lose😥')\n",
    "                    continue_or_not='n'\n",
    "            else:\n",
    "                draw_or_not = input(\"Type 'y' to get another card, type 'n' to pass: \")\n",
    "                if draw_or_not == 'y':\n",
    "                    your_cards.append(random.choice(cards))\n",
    "                else:\n",
    "                    while sum(computer_cards)<17:\n",
    "                        computer_cards.append(random.choice(cards))\n",
    "                    calculate_final_results()\n",
    "                    continue_or_not='n'\n",
    "            \n",
    "    play_or_not = input('Do you want to play again or not. Type y or n: ')"
   ]
  }
 ],
 "metadata": {
  "kernelspec": {
   "display_name": "Python 3",
   "language": "python",
   "name": "python3"
  },
  "language_info": {
   "codemirror_mode": {
    "name": "ipython",
    "version": 3
   },
   "file_extension": ".py",
   "mimetype": "text/x-python",
   "name": "python",
   "nbconvert_exporter": "python",
   "pygments_lexer": "ipython3",
   "version": "3.7.2"
  }
 },
 "nbformat": 4,
 "nbformat_minor": 5
}
