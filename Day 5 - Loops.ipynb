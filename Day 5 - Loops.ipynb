{
 "cells": [
  {
   "cell_type": "markdown",
   "id": "8a015928",
   "metadata": {},
   "source": [
    "## Exercise 1 - Avg High Calculation with Loop"
   ]
  },
  {
   "cell_type": "code",
   "execution_count": 1,
   "id": "ce3c0864",
   "metadata": {},
   "outputs": [],
   "source": [
    "student_heights = [180, 124, 165, 173, 189, 169, 146]"
   ]
  },
  {
   "cell_type": "code",
   "execution_count": 4,
   "id": "29702ece",
   "metadata": {},
   "outputs": [
    {
     "name": "stdout",
     "output_type": "stream",
     "text": [
      "Avg height is 163.71428571428572\n"
     ]
    }
   ],
   "source": [
    "height_sum = 0\n",
    "student_count = 0\n",
    "for height in student_heights:\n",
    "    height_sum += height\n",
    "    student_count += 1\n",
    "\n",
    "print('Avg height is ' + str(height_sum/student_count))"
   ]
  },
  {
   "cell_type": "code",
   "execution_count": 6,
   "id": "fa3673e9",
   "metadata": {},
   "outputs": [
    {
     "data": {
      "text/plain": [
       "163.71428571428572"
      ]
     },
     "execution_count": 6,
     "metadata": {},
     "output_type": "execute_result"
    }
   ],
   "source": [
    "#Validation\n",
    "sum(student_heights)/len(student_heights)"
   ]
  },
  {
   "cell_type": "markdown",
   "id": "eadf5f92",
   "metadata": {},
   "source": [
    "## Exercise 2 - Highest Score with Loop\n",
    "- The highest score in the class is: x"
   ]
  },
  {
   "cell_type": "code",
   "execution_count": 8,
   "id": "1230cf7e",
   "metadata": {},
   "outputs": [
    {
     "data": {
      "text/plain": [
       "91"
      ]
     },
     "execution_count": 8,
     "metadata": {},
     "output_type": "execute_result"
    }
   ],
   "source": [
    "#Max function\n",
    "max(student_scores)"
   ]
  },
  {
   "cell_type": "code",
   "execution_count": 7,
   "id": "61be9e9b",
   "metadata": {},
   "outputs": [],
   "source": [
    "student_scores = [78, 65, 89, 86, 55, 91, 64, 89]"
   ]
  },
  {
   "cell_type": "code",
   "execution_count": 11,
   "id": "62656ee3",
   "metadata": {},
   "outputs": [
    {
     "name": "stdout",
     "output_type": "stream",
     "text": [
      "The highest score in the class is: 91\n"
     ]
    }
   ],
   "source": [
    "#Loop\n",
    "highest_score = 0\n",
    "for score in student_scores:\n",
    "    if score > highest_score:\n",
    "        highest_score = score\n",
    "print(f'The highest score in the class is: {highest_score}')"
   ]
  },
  {
   "cell_type": "markdown",
   "id": "47aa43f9",
   "metadata": {},
   "source": [
    "## Exercise 3 - Adding Even Numbers with Loop\n",
    "- Add up all the even numbers from 1 - 100"
   ]
  },
  {
   "cell_type": "code",
   "execution_count": 12,
   "id": "f3184ffd",
   "metadata": {},
   "outputs": [
    {
     "name": "stdout",
     "output_type": "stream",
     "text": [
      "2550\n"
     ]
    }
   ],
   "source": [
    "sum = 0\n",
    "for i in range(1,101):\n",
    "    if i%2==0:\n",
    "        sum+=i\n",
    "print(sum)"
   ]
  },
  {
   "cell_type": "markdown",
   "id": "45636002",
   "metadata": {},
   "source": [
    "## Exercise 4 - FizzBuzz Job Interview Challenge"
   ]
  },
  {
   "attachments": {
    "image.png": {
     "image/png": "[encoded data removed]"
    }
   },
   "cell_type": "markdown",
   "id": "58d67b59",
   "metadata": {},
   "source": [
    "![image.png](attachment:image.png)"
   ]
  },
  {
   "cell_type": "code",
   "execution_count": 14,
   "id": "4baf7dc6",
   "metadata": {
    "scrolled": true
   },
   "outputs": [
    {
     "name": "stdout",
     "output_type": "stream",
     "text": [
      "1\n",
      "2\n",
      "Fizz\n",
      "4\n",
      "Buzz\n",
      "Fizz\n",
      "7\n",
      "8\n",
      "Fizz\n",
      "Buzz\n",
      "11\n",
      "Fizz\n",
      "13\n",
      "14\n",
      "FizzBuzz\n",
      "16\n",
      "17\n",
      "Fizz\n",
      "19\n",
      "Buzz\n",
      "Fizz\n",
      "22\n",
      "23\n",
      "Fizz\n",
      "Buzz\n",
      "26\n",
      "Fizz\n",
      "28\n",
      "29\n",
      "FizzBuzz\n",
      "31\n",
      "32\n",
      "Fizz\n",
      "34\n",
      "Buzz\n",
      "Fizz\n",
      "37\n",
      "38\n",
      "Fizz\n",
      "Buzz\n",
      "41\n",
      "Fizz\n",
      "43\n",
      "44\n",
      "FizzBuzz\n",
      "46\n",
      "47\n",
      "Fizz\n",
      "49\n",
      "Buzz\n",
      "Fizz\n",
      "52\n",
      "53\n",
      "Fizz\n",
      "Buzz\n",
      "56\n",
      "Fizz\n",
      "58\n",
      "59\n",
      "FizzBuzz\n",
      "61\n",
      "62\n",
      "Fizz\n",
      "64\n",
      "Buzz\n",
      "Fizz\n",
      "67\n",
      "68\n",
      "Fizz\n",
      "Buzz\n",
      "71\n",
      "Fizz\n",
      "73\n",
      "74\n",
      "FizzBuzz\n",
      "76\n",
      "77\n",
      "Fizz\n",
      "79\n",
      "Buzz\n",
      "Fizz\n",
      "82\n",
      "83\n",
      "Fizz\n",
      "Buzz\n",
      "86\n",
      "Fizz\n",
      "88\n",
      "89\n",
      "FizzBuzz\n",
      "91\n",
      "92\n",
      "Fizz\n",
      "94\n",
      "Buzz\n",
      "Fizz\n",
      "97\n",
      "98\n",
      "Fizz\n",
      "Buzz\n"
     ]
    }
   ],
   "source": [
    "for i in range(1,101):\n",
    "    if i%3==0:\n",
    "        if i%5==0:\n",
    "            print('FizzBuzz')\n",
    "        else:\n",
    "            print('Fizz')\n",
    "    elif i%5==0:\n",
    "        print('Buzz')\n",
    "    else:\n",
    "        print(i)"
   ]
  },
  {
   "cell_type": "markdown",
   "id": "8af5cb1c",
   "metadata": {},
   "source": [
    "## Project - Password Generator"
   ]
  },
  {
   "cell_type": "code",
   "execution_count": 29,
   "id": "3522d6ed",
   "metadata": {},
   "outputs": [
    {
     "name": "stdout",
     "output_type": "stream",
     "text": [
      "Welcome to the PyPassword Generator!\n",
      "How many letters would you like in your password?\n",
      "2\n",
      "How many symbols would you like?\n",
      "4\n",
      "How many numbers would you like?\n",
      "6\n"
     ]
    }
   ],
   "source": [
    "#Password Generator Project\n",
    "import random\n",
    "letters = ['a', 'b', 'c', 'd', 'e', 'f', 'g', 'h', 'i', 'j', 'k', 'l', 'm', 'n', 'o', 'p', 'q', 'r', 's', 't', 'u', 'v', 'w', 'x', 'y', 'z', 'A', 'B', 'C', 'D', 'E', 'F', 'G', 'H', 'I', 'J', 'K', 'L', 'M', 'N', 'O', 'P', 'Q', 'R', 'S', 'T', 'U', 'V', 'W', 'X', 'Y', 'Z']\n",
    "numbers = ['0', '1', '2', '3', '4', '5', '6', '7', '8', '9']\n",
    "symbols = ['!', '#', '$', '%', '&', '(', ')', '*', '+']\n",
    "\n",
    "print(\"Welcome to the PyPassword Generator!\")\n",
    "nr_letters= int(input(\"How many letters would you like in your password?\\n\")) \n",
    "nr_symbols = int(input(f\"How many symbols would you like?\\n\"))\n",
    "nr_numbers = int(input(f\"How many numbers would you like?\\n\"))"
   ]
  },
  {
   "cell_type": "code",
   "execution_count": 38,
   "id": "5e31ba12",
   "metadata": {},
   "outputs": [
    {
     "name": "stdout",
     "output_type": "stream",
     "text": [
      "4$x#04f&29+0\n"
     ]
    }
   ],
   "source": [
    "password_list = []\n",
    "for i in range(nr_letters):\n",
    "    password_list.append(random.choice(letters))\n",
    "for j in range(nr_symbols):\n",
    "    password_list.append(random.choice(symbols))\n",
    "for k in range(nr_numbers):\n",
    "    password_list.append(random.choice(numbers))\n",
    "    \n",
    "random.shuffle(password_list)\n",
    "print(''.join(password_list))"
   ]
  },
  {
   "cell_type": "code",
   "execution_count": null,
   "id": "dac9f6ce",
   "metadata": {},
   "outputs": [],
   "source": []
  }
 ],
 "metadata": {
  "kernelspec": {
   "display_name": "Python 3",
   "language": "python",
   "name": "python3"
  },
  "language_info": {
   "codemirror_mode": {
    "name": "ipython",
    "version": 3
   },
   "file_extension": ".py",
   "mimetype": "text/x-python",
   "name": "python",
   "nbconvert_exporter": "python",
   "pygments_lexer": "ipython3",
   "version": "3.7.2"
  }
 },
 "nbformat": 4,
 "nbformat_minor": 5
}
