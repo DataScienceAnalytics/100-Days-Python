{
 "cells": [
  {
   "cell_type": "markdown",
   "id": "b9497f3b",
   "metadata": {},
   "source": [
    "## Band Name Generator"
   ]
  },
  {
   "cell_type": "code",
   "execution_count": null,
   "id": "c998c53e",
   "metadata": {},
   "outputs": [
    {
     "name": "stdout",
     "output_type": "stream",
     "text": [
      "Welcome\n"
     ]
    }
   ],
   "source": [
    "#1. Create a greeting for your program.\n",
    "print('Welcome')\n",
    "\n",
    "#2. Ask the user for the city that they grew up in.\n",
    "city =  input(\"What's the city that you grew up in?\\n\")\n",
    "\n",
    "#3. Ask the user for the name of a pet.\n",
    "pet = input(\"What's your pet's name?\\n\")\n",
    "\n",
    "#4. Combine the name of their city and pet and show them their band name.\n",
    "bandname = city + \" \" + pet\n",
    "print(\"Your brand name is: \" + bandname)\n",
    "#5. Make sure the input cursor shows on a new line"
   ]
  },
  {
   "cell_type": "code",
   "execution_count": null,
   "id": "0dc6388a",
   "metadata": {},
   "outputs": [],
   "source": []
  }
 ],
 "metadata": {
  "kernelspec": {
   "display_name": "base",
   "language": "python",
   "name": "python3"
  },
  "language_info": {
   "codemirror_mode": {
    "name": "ipython",
    "version": 3
   },
   "file_extension": ".py",
   "mimetype": "text/x-python",
   "name": "python",
   "nbconvert_exporter": "python",
   "pygments_lexer": "ipython3",
   "version": "3.13.5"
  }
 },
 "nbformat": 4,
 "nbformat_minor": 5
}
