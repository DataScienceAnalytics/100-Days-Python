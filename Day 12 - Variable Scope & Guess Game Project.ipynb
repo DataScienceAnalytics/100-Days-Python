{
 "cells": [
  {
   "cell_type": "markdown",
   "id": "d92ba78b",
   "metadata": {},
   "source": [
    "## Local vs Global Variable"
   ]
  },
  {
   "cell_type": "code",
   "execution_count": 1,
   "id": "f2c33c83",
   "metadata": {},
   "outputs": [
    {
     "name": "stdout",
     "output_type": "stream",
     "text": [
      "enemies inside function: 2\n",
      "enemies outside function: 1\n"
     ]
    }
   ],
   "source": [
    "enemies = 1\n",
    "\n",
    "def increase_enemies():\n",
    "  enemies = 2\n",
    "  print(f\"enemies inside function: {enemies}\")\n",
    "\n",
    "increase_enemies()\n",
    "print(f\"enemies outside function: {enemies}\")"
   ]
  },
  {
   "cell_type": "markdown",
   "id": "723d659e",
   "metadata": {},
   "source": [
    "- Variable within a function is in a local scope and won't be accessible by code outside the function\n",
    "- For, while or if statement won't define scope for a variable but function will"
   ]
  },
  {
   "cell_type": "code",
   "execution_count": 4,
   "id": "52177e3a",
   "metadata": {},
   "outputs": [
    {
     "name": "stdout",
     "output_type": "stream",
     "text": [
      "2\n"
     ]
    }
   ],
   "source": [
    "# Don't suggest modifying global varaible within a function. But you can use global var by using return \n",
    "# and save the function results to another global variable\n",
    "\n",
    "# Within function you can access global variable.\n",
    "enemies = 1\n",
    "def increase_enemies():\n",
    "    return enemies + 1\n",
    "\n",
    "new_enemies = increase_enemies()\n",
    "\n",
    "print(new_enemies)"
   ]
  },
  {
   "cell_type": "markdown",
   "id": "9cd25535",
   "metadata": {},
   "source": [
    "## Guess Game"
   ]
  },
  {
   "cell_type": "code",
   "execution_count": 2,
   "id": "56e4418b",
   "metadata": {},
   "outputs": [],
   "source": [
    "import random"
   ]
  },
  {
   "cell_type": "code",
   "execution_count": 1,
   "id": "4409e962",
   "metadata": {},
   "outputs": [
    {
     "name": "stdout",
     "output_type": "stream",
     "text": [
      "Welcome to the Number Guessing Game!\n",
      "I'm thinking of a number between 1 and 100.\n"
     ]
    }
   ],
   "source": [
    "print(\"Welcome to the Number Guessing Game!\")\n",
    "print(\"I'm thinking of a number between 1 and 100.\")"
   ]
  },
  {
   "cell_type": "code",
   "execution_count": 7,
   "id": "a3cd8e42",
   "metadata": {},
   "outputs": [],
   "source": [
    "answer = random.randint(1,100)"
   ]
  },
  {
   "cell_type": "code",
   "execution_count": 8,
   "id": "08a48b45",
   "metadata": {},
   "outputs": [
    {
     "name": "stdout",
     "output_type": "stream",
     "text": [
      "Choose a difficulty. Type 'easy' or 'hard': hard\n"
     ]
    }
   ],
   "source": [
    "easy_or_hard = input(\"Choose a difficulty. Type 'easy' or 'hard': \")\n",
    "if easy_or_hard == 'easy':\n",
    "    chances = 10\n",
    "else:\n",
    "    chances = 5"
   ]
  },
  {
   "cell_type": "code",
   "execution_count": 12,
   "id": "eff72870",
   "metadata": {},
   "outputs": [
    {
     "name": "stdout",
     "output_type": "stream",
     "text": [
      "Type your guess here: 1\n",
      "Guess too low. Try again. 4 chances remaining\n",
      "Type your guess here: 2\n",
      "Guess too low. Try again. 3 chances remaining\n",
      "Type your guess here: 3\n",
      "Guess too low. Try again. 2 chances remaining\n",
      "Type your guess here: 4\n",
      "Guess too low. Try again. 1 chances remaining\n",
      "Type your guess here: 5\n",
      "Guess too low. Try again. 0 chances remaining\n",
      "Running out of chances. You lose 😥\n"
     ]
    }
   ],
   "source": [
    "flag = 0\n",
    "for i in range(chances):\n",
    "    guess = int(input('Type your guess here: '))\n",
    "    \n",
    "    if guess == answer:\n",
    "        flag = 1\n",
    "        print(f'The correct answer is:{answer}. You win! 😎')\n",
    "        break\n",
    "    elif guess > answer:\n",
    "        print('Guess too high. Try again. ' + str(chances-i-1) +' chances remaining')\n",
    "    elif guess < answer:\n",
    "        print('Guess too low. Try again. ' + str(chances-i-1) +' chances remaining')\n",
    "\n",
    "if flag == 0:\n",
    "    print('Running out of chances. You lose 😥')"
   ]
  }
 ],
 "metadata": {
  "kernelspec": {
   "display_name": "Python 3",
   "language": "python",
   "name": "python3"
  },
  "language_info": {
   "codemirror_mode": {
    "name": "ipython",
    "version": 3
   },
   "file_extension": ".py",
   "mimetype": "text/x-python",
   "name": "python",
   "nbconvert_exporter": "python",
   "pygments_lexer": "ipython3",
   "version": "3.7.2"
  }
 },
 "nbformat": 4,
 "nbformat_minor": 5
}
