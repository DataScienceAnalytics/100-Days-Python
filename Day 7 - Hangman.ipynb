{
 "cells": [
  {
   "cell_type": "code",
   "execution_count": 1,
   "id": "7f5fd0f0",
   "metadata": {},
   "outputs": [],
   "source": [
    "import random"
   ]
  },
  {
   "cell_type": "markdown",
   "id": "9752491f",
   "metadata": {},
   "source": [
    "## One round"
   ]
  },
  {
   "cell_type": "code",
   "execution_count": 10,
   "id": "d2747edf",
   "metadata": {},
   "outputs": [
    {
     "name": "stdout",
     "output_type": "stream",
     "text": [
      "Please guess a letter: a\n",
      "Wrong\n",
      "Right\n",
      "Wrong\n",
      "Wrong\n",
      "Wrong\n",
      "Wrong\n"
     ]
    }
   ],
   "source": [
    "#Step 1 \n",
    "word_list = [\"aardvark\", \"baboon\", \"camel\"]\n",
    "\n",
    "#TODO-1 - Randomly choose a word from the word_list and assign it to a variable called chosen_word.\n",
    "chosen_word = random.choice(word_list)\n",
    "\n",
    "#TODO-2: - Loop through each position in the chosen_word;\n",
    "#If the letter at that position matches 'guess' then reveal that letter in the display at that position.\n",
    "#e.g. If the user guessed \"p\" and the chosen word was \"apple\", then display should be [\"_\", \"p\", \"p\", \"_\", \"_\"].\n",
    "display = [\"_\"]*len(chosen_word)\n",
    "guess = input('Please guess a letter: ').lower()\n",
    "\n",
    "for i in range(len(chosen_word)):\n",
    "    if guess==chosen_word[i]:\n",
    "        print('Right')\n",
    "        display[i] = guess\n",
    "    else:\n",
    "        print('Wrong')"
   ]
  },
  {
   "cell_type": "code",
   "execution_count": 11,
   "id": "a5445cf6",
   "metadata": {},
   "outputs": [
    {
     "data": {
      "text/plain": [
       "['_', 'a', '_', '_', '_', '_']"
      ]
     },
     "execution_count": 11,
     "metadata": {},
     "output_type": "execute_result"
    }
   ],
   "source": [
    "#TODO-3: - Print 'display' and you should see the guessed letter in the correct position and every other letter replace with \"_\".\n",
    "display"
   ]
  },
  {
   "cell_type": "markdown",
   "id": "cc4a05ea",
   "metadata": {},
   "source": [
    "## Keep testing until it's win/lose"
   ]
  },
  {
   "cell_type": "code",
   "execution_count": 39,
   "id": "4f0be0f4",
   "metadata": {},
   "outputs": [],
   "source": [
    "word_list = [\"aardvark\", \"baboon\", \"camel\"]\n",
    "\n",
    "chosen_word = random.choice(word_list)\n",
    "\n",
    "display = [\"_\"]*len(chosen_word)\n",
    "\n",
    "live_remaining = 6"
   ]
  },
  {
   "cell_type": "code",
   "execution_count": 41,
   "id": "3df2a2c8",
   "metadata": {},
   "outputs": [
    {
     "name": "stdout",
     "output_type": "stream",
     "text": [
      "Please guess a letter: a\n",
      "['_', 'a', '_', '_', '_']\n",
      "Live remaining: 4\n",
      "Please guess a letter: c\n",
      "['c', 'a', '_', '_', '_']\n",
      "Live remaining: 3\n",
      "Please guess a letter: m\n",
      "['c', 'a', 'm', '_', '_']\n",
      "Live remaining: 2\n",
      "Please guess a letter: e\n",
      "['c', 'a', 'm', 'e', '_']\n",
      "Live remaining: 1\n",
      "Please guess a letter: l\n",
      "['c', 'a', 'm', 'e', 'l']\n",
      "You win\n"
     ]
    }
   ],
   "source": [
    "while '_' in display:\n",
    "    guess = input('Please guess a letter: ').lower()\n",
    "\n",
    "    for i in range(len(chosen_word)):\n",
    "        if guess==chosen_word[i]:\n",
    "            #print('Right')\n",
    "            display[i] = guess\n",
    "        \n",
    "    print(display)\n",
    "    \n",
    "    live_remaining-=1\n",
    "    if live_remaining>=0:\n",
    "        if '_' not in display:\n",
    "            print('You win')\n",
    "            break\n",
    "        else:\n",
    "            print('Live remaining: '+str(live_remaining))\n",
    "            print()\n",
    "    else:\n",
    "        print('You lose')\n",
    "        break"
   ]
  },
  {
   "cell_type": "code",
   "execution_count": null,
   "id": "8a5e5692",
   "metadata": {},
   "outputs": [],
   "source": []
  }
 ],
 "metadata": {
  "kernelspec": {
   "display_name": "Python 3",
   "language": "python",
   "name": "python3"
  },
  "language_info": {
   "codemirror_mode": {
    "name": "ipython",
    "version": 3
   },
   "file_extension": ".py",
   "mimetype": "text/x-python",
   "name": "python",
   "nbconvert_exporter": "python",
   "pygments_lexer": "ipython3",
   "version": "3.8.8"
  }
 },
 "nbformat": 4,
 "nbformat_minor": 5
}
