{
 "cells": [
  {
   "cell_type": "markdown",
   "id": "7685a5ab",
   "metadata": {},
   "source": [
    "## Exe 1 - Grading System"
   ]
  },
  {
   "attachments": {
    "image.png": {
     "image/png": "[encoded data removed]"
    }
   },
   "cell_type": "markdown",
   "id": "b900dcde",
   "metadata": {},
   "source": [
    "![image.png](attachment:image.png)"
   ]
  },
  {
   "cell_type": "code",
   "execution_count": 1,
   "id": "7882e8de",
   "metadata": {},
   "outputs": [],
   "source": [
    "student_scores = {\n",
    "  \"Harry\": 81,\n",
    "  \"Ron\": 78,\n",
    "  \"Hermione\": 99, \n",
    "  \"Draco\": 74,\n",
    "  \"Neville\": 62,\n",
    "}"
   ]
  },
  {
   "cell_type": "code",
   "execution_count": 2,
   "id": "7a156b35",
   "metadata": {},
   "outputs": [
    {
     "name": "stdout",
     "output_type": "stream",
     "text": [
      "{'Harry': 81, 'Ron': 78, 'Hermione': 99, 'Draco': 74, 'Neville': 62}\n"
     ]
    }
   ],
   "source": [
    "print(student_scores)"
   ]
  },
  {
   "cell_type": "code",
   "execution_count": 3,
   "id": "32dfb1e8",
   "metadata": {},
   "outputs": [],
   "source": [
    "student_grades = {}"
   ]
  },
  {
   "cell_type": "code",
   "execution_count": 10,
   "id": "f4617206",
   "metadata": {},
   "outputs": [],
   "source": [
    "for key in student_scores:\n",
    "    if student_scores[key] <= 70:\n",
    "        student_grades[key] = \"Fail\"\n",
    "    elif student_scores[key] >= 71 & student_scores[key] <= 80:\n",
    "        student_grades[key] = \"Acceptable\"\n",
    "    elif student_scores[key] >= 81 & student_scores[key] <= 90:\n",
    "        student_grades[key] = \"Exceeds Expectations\"\n",
    "    elif student_scores[key] >= 91 & student_scores[key] <= 100:\n",
    "        student_grades[key] = \"Outstanding\""
   ]
  },
  {
   "cell_type": "code",
   "execution_count": 11,
   "id": "5b4aca4d",
   "metadata": {},
   "outputs": [
    {
     "name": "stdout",
     "output_type": "stream",
     "text": [
      "{'Harry': 'Acceptable', 'Ron': 'Acceptable', 'Hermione': 'Acceptable', 'Draco': 'Acceptable', 'Neville': 'Fail'}\n"
     ]
    }
   ],
   "source": [
    "print(student_grades)"
   ]
  },
  {
   "cell_type": "markdown",
   "id": "7c7b53e7",
   "metadata": {},
   "source": [
    "## Exe 2 - Travel Log"
   ]
  },
  {
   "cell_type": "code",
   "execution_count": 12,
   "id": "d718f2f7",
   "metadata": {},
   "outputs": [],
   "source": [
    "travel_log = [\n",
    "{\n",
    "  \"country\": \"France\",\n",
    "  \"visits\": 12,\n",
    "  \"cities\": [\"Paris\", \"Lille\", \"Dijon\"]\n",
    "},\n",
    "{\n",
    "  \"country\": \"Germany\",\n",
    "  \"visits\": 5,\n",
    "  \"cities\": [\"Berlin\", \"Hamburg\", \"Stuttgart\"]\n",
    "},\n",
    "]\n",
    "#🚨 Do NOT change the code above\n",
    "\n",
    "#TODO: Write the function that will allow new countries\n",
    "#to be added to the travel_log. 👇"
   ]
  },
  {
   "cell_type": "code",
   "execution_count": 13,
   "id": "c88c2886",
   "metadata": {},
   "outputs": [],
   "source": [
    "def add_new_country(country, visits, cities):\n",
    "    new_add = {}\n",
    "    new_add['country'] = country\n",
    "    new_add['visits'] = visits\n",
    "    new_add['cities'] = cities\n",
    "    \n",
    "    travel_log.append(new_add)"
   ]
  },
  {
   "cell_type": "code",
   "execution_count": 14,
   "id": "4e9a5895",
   "metadata": {},
   "outputs": [
    {
     "name": "stdout",
     "output_type": "stream",
     "text": [
      "[{'country': 'France', 'visits': 12, 'cities': ['Paris', 'Lille', 'Dijon']}, {'country': 'Germany', 'visits': 5, 'cities': ['Berlin', 'Hamburg', 'Stuttgart']}, {'country': 'Russia', 'visits': 2, 'cities': ['Moscow', 'Saint Petersburg']}]\n"
     ]
    }
   ],
   "source": [
    "#🚨 Do not change the code below\n",
    "add_new_country(\"Russia\", 2, [\"Moscow\", \"Saint Petersburg\"])\n",
    "print(travel_log)\n",
    "#This log tracking will be useful for future info "
   ]
  },
  {
   "cell_type": "markdown",
   "id": "ee571fa9",
   "metadata": {},
   "source": [
    "## Exe 3 - Auction App"
   ]
  },
  {
   "cell_type": "code",
   "execution_count": 1,
   "id": "9a8b167a",
   "metadata": {},
   "outputs": [],
   "source": [
    "auction_log = {}"
   ]
  },
  {
   "cell_type": "code",
   "execution_count": 16,
   "id": "6810a256",
   "metadata": {},
   "outputs": [
    {
     "name": "stdout",
     "output_type": "stream",
     "text": [
      "What's your name: ray\n",
      "What's your bid: 100\n",
      "Any new bid? yes or no: yes\n",
      "What's your name: jack\n",
      "What's your bid: 15\n",
      "Any new bid? yes or no: yes\n",
      "What's your name: haha\n",
      "What's your bid: 99\n",
      "Any new bid? yes or no: no\n"
     ]
    }
   ],
   "source": [
    "continue_or_not = 'yes'\n",
    "\n",
    "while continue_or_not == 'yes':\n",
    "    \n",
    "    name = input(\"What's your name: \")\n",
    "    bid = int(input(\"What's your bid: \"))\n",
    "    auction_log[name] = bid\n",
    "    continue_or_not = input(\"Any new bid? yes or no: \").lower()"
   ]
  },
  {
   "cell_type": "code",
   "execution_count": 17,
   "id": "17c6b6bf",
   "metadata": {},
   "outputs": [
    {
     "name": "stdout",
     "output_type": "stream",
     "text": [
      "The winner is ray\n"
     ]
    }
   ],
   "source": [
    "max_key = max(auction_log, key=auction_log. get)\n",
    "print('The winner is ' + max_key)"
   ]
  },
  {
   "cell_type": "code",
   "execution_count": 18,
   "id": "c2f33422",
   "metadata": {},
   "outputs": [
    {
     "name": "stdout",
     "output_type": "stream",
     "text": [
      "{'ray': 100, 'jack': 15, '10': 12, \"ray'\": 12, 'march': 20, 'haha': 99}\n"
     ]
    }
   ],
   "source": [
    "print(auction_log)"
   ]
  },
  {
   "cell_type": "code",
   "execution_count": null,
   "id": "d2b9f19b",
   "metadata": {},
   "outputs": [],
   "source": []
  }
 ],
 "metadata": {
  "kernelspec": {
   "display_name": "Python 3",
   "language": "python",
   "name": "python3"
  },
  "language_info": {
   "codemirror_mode": {
    "name": "ipython",
    "version": 3
   },
   "file_extension": ".py",
   "mimetype": "text/x-python",
   "name": "python",
   "nbconvert_exporter": "python",
   "pygments_lexer": "ipython3",
   "version": "3.7.2"
  }
 },
 "nbformat": 4,
 "nbformat_minor": 5
}
